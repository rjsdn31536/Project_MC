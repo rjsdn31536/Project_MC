{
 "cells": [
  {
   "cell_type": "code",
   "execution_count": 1,
   "metadata": {},
   "outputs": [],
   "source": [
    "import random\n",
    "import numpy as np\n",
    "import pandas as pd"
   ]
  },
  {
   "cell_type": "code",
   "execution_count": 19,
   "metadata": {},
   "outputs": [],
   "source": [
    "# member DataFrame에 data를 집어넣는 함수\n",
    "# ex) data_insert(1, 'rjsdn315@gmail.com', '010-5653-5259', '서울시 관악구 남부순환로 161길 45', 24, 'M', 4)\n",
    "def data_insert(index, e_mail, phone_number, address, age, sex, family):\n",
    "    global member\n",
    "    member.loc[index] = {'e_mail' : e_mail, \n",
    "             'phone_number' : phone_number,\n",
    "             'address' : address,\n",
    "             'age' : age,\n",
    "             'sex' : sex,\n",
    "             'family' : family}"
   ]
  },
  {
   "cell_type": "code",
   "execution_count": 52,
   "metadata": {},
   "outputs": [],
   "source": [
    "def random_alpha_num():\n",
    "    alpha_num = alpha_list + number_list\n",
    "    return random.choice(alpha_num)"
   ]
  },
  {
   "cell_type": "code",
   "execution_count": 94,
   "metadata": {},
   "outputs": [],
   "source": [
    "def get_email():\n",
    "    # email ID를 4글자에서 12글자로 Random 생성\n",
    "    email = ''\n",
    "    email_length = random.randint(4,13)\n",
    "    for i in range(email_length):\n",
    "        email += random_alpha_num()\n",
    "    \n",
    "    # email domain을 Random 생성\n",
    "    email_domain = ['naver.com', 'google.com', 'daum.net']\n",
    "    email = email + '@' + random.choice(email_domain)\n",
    "        \n",
    "    return email"
   ]
  },
  {
   "cell_type": "code",
   "execution_count": 114,
   "metadata": {},
   "outputs": [],
   "source": [
    "def get_phone_number():\n",
    "    phone_num = '010-'\n",
    "    phone_num = phone_num + str(random.randint(1000, 9999)) + '-' + str(random.randint(1000, 9999))\n",
    "    return phone_num"
   ]
  },
  {
   "cell_type": "code",
   "execution_count": 156,
   "metadata": {},
   "outputs": [],
   "source": [
    "def get_address():\n",
    "    park = pd.read_csv('./data/2018_parking_free.csv')\n",
    "    rand = random.choice(park.index)\n",
    "    \n",
    "    return park.loc[rand].주소"
   ]
  },
  {
   "cell_type": "code",
   "execution_count": 169,
   "metadata": {},
   "outputs": [],
   "source": [
    "def get_age():\n",
    "    return random.randint(20,101)"
   ]
  },
  {
   "cell_type": "code",
   "execution_count": 170,
   "metadata": {},
   "outputs": [],
   "source": [
    "def get_sex():\n",
    "    return random.choice(['M', 'W'])"
   ]
  },
  {
   "cell_type": "code",
   "execution_count": 171,
   "metadata": {},
   "outputs": [],
   "source": [
    "def get_family():\n",
    "    return random.randint(1,12)"
   ]
  },
  {
   "cell_type": "code",
   "execution_count": 46,
   "metadata": {},
   "outputs": [],
   "source": [
    "# alpha_list 는 알파벳 List(소문자)\n",
    "alpha_list = []\n",
    "for i in range(ord('a'), ord('z')+1):\n",
    "    alpha_list.append(chr(i))"
   ]
  },
  {
   "cell_type": "code",
   "execution_count": 49,
   "metadata": {},
   "outputs": [],
   "source": [
    "# number_list 는 숫자 List\n",
    "number_list = []\n",
    "for i in range(0,10):\n",
    "    number_list.append(str(i))"
   ]
  },
  {
   "cell_type": "code",
   "execution_count": 6,
   "metadata": {},
   "outputs": [
    {
     "data": {
      "text/plain": [
       "'rjsdn315@gmail.com'"
      ]
     },
     "execution_count": 6,
     "metadata": {},
     "output_type": "execute_result"
    }
   ],
   "source": [
    "member.loc[0].e_mail"
   ]
  },
  {
   "cell_type": "code",
   "execution_count": 2,
   "metadata": {},
   "outputs": [],
   "source": [
    "# 회원 DataFrame 틀 작성\n",
    "# member 라는 dataframe 생성했고, 이 member에 data를 row단위로 insert할 예정\n",
    "form_dict = {'e_mail' : ['rjsdn315@gmail.com'], \n",
    "             'phone_number' : ['010-5653-5259'],\n",
    "             'address' : ['서울시 관악구 남부순환로 161길 45'],\n",
    "             'age' : [24],\n",
    "             'sex' : ['M'],\n",
    "             'family' : [4]}\n",
    "\n",
    "member = pd.DataFrame(form_dict)"
   ]
  },
  {
   "cell_type": "code",
   "execution_count": 176,
   "metadata": {},
   "outputs": [],
   "source": [
    "for i in range(1,501):\n",
    "    data_insert(i, get_email(), get_phone_number(), get_address(), get_age(), get_sex(), get_family())"
   ]
  },
  {
   "cell_type": "code",
   "execution_count": 179,
   "metadata": {},
   "outputs": [],
   "source": [
    "# 멤버 데이터를 member.csv에 저장\n",
    "member.to_csv('./data/member.csv', encoding='utf-8-sig')"
   ]
  }
 ],
 "metadata": {
  "kernelspec": {
   "display_name": "Python 3",
   "language": "python",
   "name": "python3"
  },
  "language_info": {
   "codemirror_mode": {
    "name": "ipython",
    "version": 3
   },
   "file_extension": ".py",
   "mimetype": "text/x-python",
   "name": "python",
   "nbconvert_exporter": "python",
   "pygments_lexer": "ipython3",
   "version": "3.6.5"
  }
 },
 "nbformat": 4,
 "nbformat_minor": 2
}
