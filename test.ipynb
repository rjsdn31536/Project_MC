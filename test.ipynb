{
 "cells": [
  {
   "cell_type": "code",
   "execution_count": 6,
   "metadata": {},
   "outputs": [
    {
     "data": {
      "text/plain": [
       "{'result': {'total': 2,\n",
       "  'userquery': '경기도 고양시 덕양구 고양대로 1383번길7-17',\n",
       "  'items': [{'address': '경기도 고양시 덕양구 고양대로 1383-2',\n",
       "    'addrdetail': {'country': '대한민국',\n",
       "     'sido': '경기도',\n",
       "     'sigugun': '고양시 덕양구',\n",
       "     'dongmyun': '고양대로',\n",
       "     'ri': '',\n",
       "     'rest': '1383-2'},\n",
       "    'isRoadAddress': True,\n",
       "    'point': {'x': 126.8379756, 'y': 37.654424}},\n",
       "   {'address': '경기도 고양시 덕양구 고양대로 1381 남지빌딩',\n",
       "    'addrdetail': {'country': '대한민국',\n",
       "     'sido': '경기도',\n",
       "     'sigugun': '고양시 덕양구',\n",
       "     'dongmyun': '고양대로',\n",
       "     'ri': '',\n",
       "     'rest': '1381 남지빌딩'},\n",
       "    'isRoadAddress': True,\n",
       "    'point': {'x': 126.8376077, 'y': 37.6545372}}]}}"
      ]
     },
     "execution_count": 6,
     "metadata": {},
     "output_type": "execute_result"
    }
   ],
   "source": [
    "import os\n",
    "import sys\n",
    "import urllib.request\n",
    "import json\n",
    "\n",
    "def insertXY(addr):\n",
    "    client_id = \"tUqrLwYE5RBZ93YVPsdb\"\n",
    "    client_secret = \"f3pO2qEAzi\"\n",
    "    encText = urllib.parse.quote(addr)\n",
    "    url = \"https://openapi.naver.com/v1/map/geocode?query=\" + encText # json 결과\n",
    "    # url = \"https://openapi.naver.com/v1/map/geocode.xml?query=\" + encText # xml 결과\n",
    "    request = urllib.request.Request(url)\n",
    "    request.add_header(\"X-Naver-Client-Id\",client_id)\n",
    "    request.add_header(\"X-Naver-Client-Secret\",client_secret)\n",
    "    response = urllib.request.urlopen(request)\n",
    "    rescode = response.getcode()\n",
    "    if(rescode==200):\n",
    "        response_body = response.read()\n",
    "        dict_addr = json.loads(response_body.decode('utf-8'))\n",
    "        return dict_addr\n",
    "#         return dict_addr['result']['items'][0]['point']\n",
    "    else:\n",
    "        return('error')\n",
    "    \n",
    "addr = insertXY('경기도 고양시 덕양구 고양대로 1383번길7-17')\n",
    "\n",
    "addr"
   ]
  },
  {
   "cell_type": "code",
   "execution_count": 9,
   "metadata": {},
   "outputs": [
    {
     "data": {
      "text/plain": [
       "dict_items([('result', {'total': 2, 'userquery': '경기도 고양시 덕양구 고양대로 1383번길7-17', 'items': [{'address': '경기도 고양시 덕양구 고양대로 1383-2', 'addrdetail': {'country': '대한민국', 'sido': '경기도', 'sigugun': '고양시 덕양구', 'dongmyun': '고양대로', 'ri': '', 'rest': '1383-2'}, 'isRoadAddress': True, 'point': {'x': 126.8379756, 'y': 37.654424}}, {'address': '경기도 고양시 덕양구 고양대로 1381 남지빌딩', 'addrdetail': {'country': '대한민국', 'sido': '경기도', 'sigugun': '고양시 덕양구', 'dongmyun': '고양대로', 'ri': '', 'rest': '1381 남지빌딩'}, 'isRoadAddress': True, 'point': {'x': 126.8376077, 'y': 37.6545372}}]})])"
      ]
     },
     "execution_count": 9,
     "metadata": {},
     "output_type": "execute_result"
    }
   ],
   "source": [
    "addr.items()"
   ]
  }
 ],
 "metadata": {
  "kernelspec": {
   "display_name": "Python 3",
   "language": "python",
   "name": "python3"
  },
  "language_info": {
   "codemirror_mode": {
    "name": "ipython",
    "version": 3
   },
   "file_extension": ".py",
   "mimetype": "text/x-python",
   "name": "python",
   "nbconvert_exporter": "python",
   "pygments_lexer": "ipython3",
   "version": "3.6.5"
  }
 },
 "nbformat": 4,
 "nbformat_minor": 2
}
