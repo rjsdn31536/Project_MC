{
 "cells": [
  {
   "cell_type": "code",
   "execution_count": 13,
   "metadata": {},
   "outputs": [
    {
     "name": "stdout",
     "output_type": "stream",
     "text": [
      "{\n",
      "    \"result\": {\n",
      "        \"total\": 1,\n",
      "        \"userquery\": \"경기도 고양시 일산서구 일현로 97-27 지하\",\n",
      "        \"items\": [\n",
      "            {\n",
      "                \"address\": \"경기도 고양시 일산서구 일현로 97-27 탄현역 공영 주차장\",\n",
      "                \"addrdetail\": {\n",
      "                    \"country\": \"대한민국\",\n",
      "                    \"sido\": \"경기도\",\n",
      "                    \"sigugun\": \"고양시 일산서구\",\n",
      "                    \"dongmyun\": \"일현로\",\n",
      "                    \"ri\": \"\",\n",
      "                    \"rest\": \"97-27 탄현역 공영 주차장\"\n",
      "                },\n",
      "                \"isRoadAddress\": true,\n",
      "                \"point\": {\n",
      "                    \"x\": 126.7613692,\n",
      "                    \"y\": 37.6953521\n",
      "                }\n",
      "            }\n",
      "        ]\n",
      "    }\n",
      "}\n"
     ]
    }
   ],
   "source": [
    "import os\n",
    "import sys\n",
    "import urllib.request\n",
    "import json\n",
    "\n",
    "def insertXY(addr):\n",
    "    client_id = \"tUqrLwYE5RBZ93YVPsdb\"\n",
    "    client_secret = \"f3pO2qEAzi\"\n",
    "    encText = urllib.parse.quote(addr)\n",
    "    url = \"https://openapi.naver.com/v1/map/geocode?query=\" + encText # json 결과\n",
    "    # url = \"https://openapi.naver.com/v1/map/geocode.xml?query=\" + encText # xml 결과\n",
    "    request = urllib.request.Request(url)\n",
    "    request.add_header(\"X-Naver-Client-Id\",client_id)\n",
    "    request.add_header(\"X-Naver-Client-Secret\",client_secret)\n",
    "    response = urllib.request.urlopen(request)\n",
    "    rescode = response.getcode()\n",
    "    if(rescode==200):\n",
    "        response_body = response.read()\n",
    "        dict_addr = json.loads(response_body.decode('utf-8'))\n",
    "        return dict_addr['result']['items'][0]['point']\n",
    "    else:\n",
    "        return('error')"
   ]
  }
 ],
 "metadata": {
  "kernelspec": {
   "display_name": "Python 3",
   "language": "python",
   "name": "python3"
  },
  "language_info": {
   "codemirror_mode": {
    "name": "ipython",
    "version": 3
   },
   "file_extension": ".py",
   "mimetype": "text/x-python",
   "name": "python",
   "nbconvert_exporter": "python",
   "pygments_lexer": "ipython3",
   "version": "3.6.5"
  }
 },
 "nbformat": 4,
 "nbformat_minor": 2
}
